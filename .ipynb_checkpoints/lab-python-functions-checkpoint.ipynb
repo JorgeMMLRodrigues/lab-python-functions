{
 "cells": [
  {
   "cell_type": "markdown",
   "id": "25d7736c-ba17-4aff-b6bb-66eba20fbf4e",
   "metadata": {},
   "source": [
    "# Lab | Functions"
   ]
  },
  {
   "cell_type": "markdown",
   "id": "74af70c8-4553-435e-b617-3206eef0faeb",
   "metadata": {
    "tags": []
   },
   "source": [
    "## Exercise: Managing Customer Orders with Functions\n",
    "\n",
    "In the previous exercise, you improved the code for managing customer orders by using loops and flow control. Now, let's take it a step further and refactor the code by introducing functions.\n",
    "\n",
    "Follow the steps below to complete the exercise:\n",
    "\n",
    "1. Define a function named `initialize_inventory` that takes `products` as a parameter. Inside the function, implement the code for initializing the inventory dictionary using a loop and user input.\n",
    "\n",
    "2. Define a function named `get_customer_orders` that takes no parameters. Inside the function, implement the code for prompting the user to enter the product names using a loop. The function should return the `customer_orders` set.\n",
    "\n",
    "3. Define a function named `update_inventory` that takes `customer_orders` and `inventory` as parameters. Inside the function, implement the code for updating the inventory dictionary based on the customer orders.\n",
    "\n",
    "4. Define a function named `calculate_order_statistics` that takes `customer_orders` and `products` as parameters. Inside the function, implement the code for calculating the order statistics (total products ordered, and percentage of unique products ordered). The function should return these values.\n",
    "\n",
    "5. Define a function named `print_order_statistics` that takes `order_statistics` as a parameter. Inside the function, implement the code for printing the order statistics.\n",
    "\n",
    "6. Define a function named `print_updated_inventory` that takes `inventory` as a parameter. Inside the function, implement the code for printing the updated inventory.\n",
    "\n",
    "7. Call the functions in the appropriate sequence to execute the program and manage customer orders.\n",
    "\n",
    "Hints for functions:\n",
    "\n",
    "- Consider the input parameters required for each function and their return values.\n",
    "- Utilize function parameters and return values to transfer data between functions.\n",
    "- Test your functions individually to ensure they work correctly."
   ]
  },
  {
   "cell_type": "markdown",
   "id": "ccbfbd84-894f-4e4e-8ddb-8a215c704361",
   "metadata": {
    "tags": []
   },
   "source": []
  },
  {
   "cell_type": "code",
   "execution_count": 189,
   "id": "910c0397-72b6-4c56-940c-da74fe4a955d",
   "metadata": {},
   "outputs": [],
   "source": [
    "\"\"\" \n",
    "1.\n",
    "Define a function named initialize_inventory that takes products as a parameter. \n",
    "Inside the function, implement the code for initializing the inventory dictionary using a loop and user input.\n",
    "\n",
    "\"\"\"\n",
    "products = [\"t-shirt\", \"mug\", \"hat\", \"book\", \"keychain\"]\n",
    "\n",
    "inventory = {}\n",
    "\n",
    "\n",
    "def initialize_inventory(products):\n",
    "    \n",
    "    for product in products:\n",
    "        \n",
    "        print(\"Available Products: \", products)\n",
    "        \n",
    "        while True:\n",
    "            \n",
    "            try:\n",
    "                \n",
    "                product_amount = int(input(f\"Enter the amount for {product}: \"))\n",
    "                \n",
    "                if product_amount < 0:\n",
    "                    \n",
    "                    print(\"Please enter a positive number for the amount.\")\n",
    "                    continue\n",
    "                    \n",
    "                inventory[product] = product_amount\n",
    "                break\n",
    "                \n",
    "            except ValueError:\n",
    "                \n",
    "                print(\"Please enter a valid number.\")\n",
    "                \n",
    "    return inventory"
   ]
  },
  {
   "cell_type": "code",
   "execution_count": 191,
   "id": "81c68dc5-3b16-40e9-abf2-0bd477643d2d",
   "metadata": {},
   "outputs": [],
   "source": [
    "\"\"\"\n",
    "2.\n",
    "\n",
    "Define a function named get_customer_orders that takes no parameters. \n",
    "Inside the function, implement the code for prompting the user to enter the product names using a loop. \n",
    "The function should return the customer_orders set.\n",
    "\n",
    "\"\"\"\n",
    "\n",
    "def get_customer_orders():\n",
    "    \n",
    "    customer_orders = set() \n",
    "    print(\"Available Products: \", inventory)\n",
    "    \n",
    "    while True:\n",
    "        \n",
    "        order = input(\"Enter your product order name: \").strip().lower()\n",
    "        \n",
    "        if order in inventory:\n",
    "            \n",
    "            customer_orders.add(order)\n",
    "            \n",
    "        else:\n",
    "            \n",
    "            print(\"Product not in Inventory\")\n",
    "             \n",
    "        ask_customer = input(\"Do you want to add more products? (yes/no): \").strip().lower()\n",
    "        \n",
    "        if ask_customer == 'no':\n",
    "            break\n",
    "            \n",
    "    return customer_orders\n"
   ]
  },
  {
   "cell_type": "code",
   "execution_count": 193,
   "id": "68f31bf8-5f4d-4e1d-a250-45b9f218d0d3",
   "metadata": {},
   "outputs": [],
   "source": [
    "\"\"\"\n",
    "3.\n",
    "\n",
    "Define a function named update_inventory that takes customer_orders and inventory as parameters. \n",
    "Inside the function, implement the code for updating the inventory dictionary based on the customer orders.\n",
    "\n",
    "\"\"\"\n",
    "def update_inventory(customer_orders, inventory):\n",
    "    \n",
    "    updated_inventory = inventory.copy()\n",
    "    \n",
    "    updated_customer_orders_dict = {}\n",
    "    \n",
    "    for product in customer_orders:\n",
    "        \n",
    "        try:\n",
    "            \n",
    "            quantity = int(input(f\"How many '{product}' would you like to order? \"))\n",
    "            \n",
    "            if quantity > updated_inventory[product]:\n",
    "                \n",
    "                print(f\"Not enough stock for '{product}'. Available: {updated_inventory[product]}.\")\n",
    "                continue\n",
    "                \n",
    "            updated_inventory[product] -= quantity\n",
    "            \n",
    "            updated_customer_orders_dict[product] = quantity\n",
    "            \n",
    "            print(\"Order selected:\", updated_customer_orders_dict)\n",
    "            \n",
    "        except ValueError:\n",
    "            \n",
    "            print(\"Please enter a valid number.\")\n",
    "            \n",
    "    return updated_inventory, updated_customer_orders_dict\n"
   ]
  },
  {
   "cell_type": "code",
   "execution_count": 195,
   "id": "f87f4b20-1b9a-4d30-a4a1-001be4ca8a14",
   "metadata": {},
   "outputs": [],
   "source": [
    "\"\"\"\n",
    "\n",
    "4.\n",
    "\n",
    "Define a function named calculate_order_statistics that takes customer_orders and products as parameters. \n",
    "Inside the function, implement the code for calculating the order statistics (total products ordered, \n",
    "and percentage of unique products ordered).\n",
    "The function should return these values.\n",
    "\n",
    "\"\"\"\n",
    "def calculate_order_statistics(customer_orders_dict, products):\n",
    "    \n",
    "    total_products_ordered = sum(customer_orders_dict.values())\n",
    "    \n",
    "    unique_products_ordered = len(customer_orders_dict.keys())\n",
    "    \n",
    "    unique_inventory_products = len(products)\n",
    "    \n",
    "    percentage = (unique_products_ordered / unique_inventory_products) * 100\n",
    "    \n",
    "    return (total_products_ordered, percentage)\n",
    "\n"
   ]
  },
  {
   "cell_type": "code",
   "execution_count": 197,
   "id": "15ec0589-3e97-454a-9a46-442fe46b9b1e",
   "metadata": {},
   "outputs": [],
   "source": [
    "\"\"\"\n",
    "\n",
    "5.\n",
    "\n",
    "Define a function named print_order_statistics that takes order_statistics as a parameter. \n",
    "Inside the function, implement the code for printing the order statistics.\n",
    "\n",
    "\"\"\"\n",
    "def print_order_statistics(order_statistics):\n",
    "    \n",
    "    total_products_ordered, percentage = order_statistics\n",
    "    \n",
    "    print(f\"Total products bought: {total_products_ordered}, Percentage of products bought from inventory: {percentage:.2f}%\")\n",
    "    \n",
    "\n"
   ]
  },
  {
   "cell_type": "code",
   "execution_count": 217,
   "id": "a9600eb1-2eac-4ebf-85e2-0f03b705aa71",
   "metadata": {},
   "outputs": [],
   "source": [
    "\"\"\"\n",
    "\n",
    "6.\n",
    "\n",
    "Define a function named print_updated_inventory that takes inventory as a parameter. \n",
    "Inside the function, implement the code for printing the updated inventory.\n",
    "\n",
    "\"\"\"\n",
    "def print_updated_inventory(inventory):\n",
    "    \n",
    "    print(\"\\nUpdated Inventory:\")\n",
    "\n",
    "    for product, quantity in inventory.items():\n",
    "        print(f\"{product}: {quantity} units\")\n"
   ]
  },
  {
   "cell_type": "code",
   "execution_count": 219,
   "id": "5ee66a85-54bc-42bb-8faf-d7cf4cce8400",
   "metadata": {},
   "outputs": [
    {
     "name": "stdout",
     "output_type": "stream",
     "text": [
      "Available Products:  ['t-shirt', 'mug', 'hat', 'book', 'keychain']\n"
     ]
    },
    {
     "name": "stdin",
     "output_type": "stream",
     "text": [
      "Enter the amount for t-shirt:  10\n"
     ]
    },
    {
     "name": "stdout",
     "output_type": "stream",
     "text": [
      "Available Products:  ['t-shirt', 'mug', 'hat', 'book', 'keychain']\n"
     ]
    },
    {
     "name": "stdin",
     "output_type": "stream",
     "text": [
      "Enter the amount for mug:  10\n"
     ]
    },
    {
     "name": "stdout",
     "output_type": "stream",
     "text": [
      "Available Products:  ['t-shirt', 'mug', 'hat', 'book', 'keychain']\n"
     ]
    },
    {
     "name": "stdin",
     "output_type": "stream",
     "text": [
      "Enter the amount for hat:  10\n"
     ]
    },
    {
     "name": "stdout",
     "output_type": "stream",
     "text": [
      "Available Products:  ['t-shirt', 'mug', 'hat', 'book', 'keychain']\n"
     ]
    },
    {
     "name": "stdin",
     "output_type": "stream",
     "text": [
      "Enter the amount for book:  10\n"
     ]
    },
    {
     "name": "stdout",
     "output_type": "stream",
     "text": [
      "Available Products:  ['t-shirt', 'mug', 'hat', 'book', 'keychain']\n"
     ]
    },
    {
     "name": "stdin",
     "output_type": "stream",
     "text": [
      "Enter the amount for keychain:  10\n"
     ]
    },
    {
     "name": "stdout",
     "output_type": "stream",
     "text": [
      "Available Products:  {'t-shirt': 10, 'mug': 10, 'hat': 10, 'book': 10, 'keychain': 10}\n"
     ]
    },
    {
     "name": "stdin",
     "output_type": "stream",
     "text": [
      "Enter your product order name:  mug\n",
      "Do you want to add more products? (yes/no):  no\n",
      "How many 'mug' would you like to order?  10\n"
     ]
    },
    {
     "name": "stdout",
     "output_type": "stream",
     "text": [
      "Order selected: {'mug': 10}\n",
      "Total products bought: 10, Percentage of products bought from inventory: 20.00%\n",
      "\n",
      "Updated Inventory:\n",
      "t-shirt: 10 units\n",
      "mug: 10 units\n",
      "hat: 10 units\n",
      "book: 10 units\n",
      "keychain: 10 units\n"
     ]
    }
   ],
   "source": [
    "\"\"\"\"\n",
    "\n",
    "7.\n",
    "\n",
    "Call the functions in the appropriate sequence to execute the program and manage customer orders.\n",
    "\n",
    "\"\"\"\n",
    "def main():\n",
    "    \n",
    "    initialized_inventory = initialize_inventory(products)\n",
    "\n",
    "    customer_orders = get_customer_orders()\n",
    "    \n",
    "    new_inventory, order_dict = update_inventory(customer_orders, inventory)\n",
    "    \n",
    "    stats = calculate_order_statistics(order_dict, products)\n",
    "    \n",
    "    print_order_statistics(stats)\n",
    "\n",
    "    print_updated_inventory(inventory)\n",
    "\n",
    "\n",
    "main()"
   ]
  },
  {
   "cell_type": "code",
   "execution_count": null,
   "id": "d7bf77b6-1472-4f9c-a2b2-f2a79fdd10db",
   "metadata": {},
   "outputs": [],
   "source": []
  }
 ],
 "metadata": {
  "kernelspec": {
   "display_name": "Python 3 (ipykernel)",
   "language": "python",
   "name": "python3"
  },
  "language_info": {
   "codemirror_mode": {
    "name": "ipython",
    "version": 3
   },
   "file_extension": ".py",
   "mimetype": "text/x-python",
   "name": "python",
   "nbconvert_exporter": "python",
   "pygments_lexer": "ipython3",
   "version": "3.12.3"
  }
 },
 "nbformat": 4,
 "nbformat_minor": 5
}
